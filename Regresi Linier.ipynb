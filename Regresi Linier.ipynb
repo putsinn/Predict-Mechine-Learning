{
  "nbformat": 4,
  "nbformat_minor": 0,
  "metadata": {
    "colab": {
      "provenance": []
    },
    "kernelspec": {
      "name": "python3",
      "display_name": "Python 3"
    },
    "language_info": {
      "name": "python"
    }
  },
  "cells": [
    {
      "cell_type": "code",
      "execution_count": 6,
      "metadata": {
        "colab": {
          "base_uri": "https://localhost:8080/"
        },
        "id": "gTVgYycgud3f",
        "outputId": "25651b00-b7bf-4ecc-a81b-4f0edd2ea178"
      },
      "outputs": [
        {
          "output_type": "stream",
          "name": "stdout",
          "text": [
            "Prediksi\n",
            "input =  [[121]]\n",
            "Output = [242.]\n"
          ]
        }
      ],
      "source": [
        "\n",
        "# REGRESI LINEAR\n",
        "\n",
        "import numpy as np                                    #untuk simbol-simbol\n",
        "from sklearn.linear_model import LinearRegression     #memanggil library regresi linear\n",
        "\n",
        "#database\n",
        "#x = Data, y = target\n",
        "x = [[2],[3],[4],[5],[6],[7],[8],[9],[10],[11]] \n",
        "y = [4, 6, 8, 10, 12, 14, 16, 18, 20, 22]               #x dikali 2\n",
        "\n",
        "regr = LinearRegression().fit(x,y)                    #untuk fitting grafik\n",
        "regr.score(x, y)                                      #untuk menentukan grafik\n",
        "\n",
        "#data uji\n",
        "predict = np.array([[121]])                            #nilai yang di prediksi\n",
        "\n",
        "#menampilkan data prediksi (menampilkan karakter)\n",
        "print (\"Prediksi\") \n",
        "print (\"input = \", predict)\n",
        "print (\"Output =\", regr.predict(predict))\n",
        "\n",
        "\n",
        "\n",
        "\n"
      ]
    }
  ]
}