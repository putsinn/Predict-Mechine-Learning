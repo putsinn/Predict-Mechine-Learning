{
  "nbformat": 4,
  "nbformat_minor": 0,
  "metadata": {
    "colab": {
      "provenance": []
    },
    "kernelspec": {
      "name": "python3",
      "display_name": "Python 3"
    },
    "language_info": {
      "name": "python"
    }
  },
  "cells": [
    {
      "cell_type": "code",
      "execution_count": 17,
      "metadata": {
        "colab": {
          "base_uri": "https://localhost:8080/"
        },
        "id": "gTVgYycgud3f",
        "outputId": "df60645b-818c-4f44-bc2a-85725e857ef9"
      },
      "outputs": [
        {
          "output_type": "stream",
          "name": "stdout",
          "text": [
            "Prediksi\n",
            "input =  [[55]]\n",
            "Output = [3025.]\n"
          ]
        }
      ],
      "source": [
        "#REGRESI POLINOMIAL\n",
        "\n",
        "#database \n",
        "#x = data, y = Target \n",
        "x  = [[ 2 ],[ 3 ],[ 4 ],[ 5 ],[ 6 ],[ 7 ],[ 8 ],[ 9 ],[10],[11]]\n",
        "y  = [ 4 , 9 , 16 , 25 , 36 , 49 , 64 , 81, 100, 121 ]              #x dipangkat 2\n",
        "\n",
        "#data uji \n",
        "predict = np.array([[55]]) #nilai yang di prediksi \n",
        "poly = PolynomialFeatures(degree=2) #ordo yang digunakan\n",
        "x_=poly.fit_transform(x) #fitting prediksi sumbu\n",
        "predict_ = poly.fit_transform(predict) #fitting jenis regresi\n",
        "regr = linear_model.LinearRegression() #meregresi\n",
        "regr.fit(x_,y) #menentukan grafik\n",
        "\n",
        "#menampilkan data prediksi \n",
        "print (\"Prediksi\")\n",
        "print (\"input = \", predict)\n",
        "print (\"Output =\", regr.predict(predict_))"
      ]
    }
  ]
}